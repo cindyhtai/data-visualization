{
 "cells": [
  {
   "cell_type": "code",
   "execution_count": 1,
   "metadata": {},
   "outputs": [],
   "source": [
    "# Author: Cindy Tai\n",
    "# Date: 20200227\n",
    "# CS301-006, Professor Watson\n",
    "# HW05 Solution\n",
    "# Revisit visualization concepts and practice using matplotlib functions to create data visualizations from given dataframe.\n",
    "# https://github.com/htai327/\n",
    "# https://github.com/htai327/\n",
    "# master"
   ]
  },
  {
   "cell_type": "markdown",
   "metadata": {},
   "source": [
    "# Homework 5 - Data Visualization"
   ]
  },
  {
   "cell_type": "code",
   "execution_count": 2,
   "metadata": {},
   "outputs": [],
   "source": [
    "import pandas as pd\n",
    "pd.set_option('display.max_columns', 999)\n",
    "import numpy as np\n",
    "\n",
    "##Visualization Libraries\n",
    "import matplotlib as mpl\n",
    "import matplotlib.pyplot as plt\n",
    "%matplotlib inline"
   ]
  },
  {
   "cell_type": "code",
   "execution_count": 3,
   "metadata": {},
   "outputs": [],
   "source": [
    "my_df = pd.read_csv('student_class.csv')"
   ]
  },
  {
   "cell_type": "code",
   "execution_count": 4,
   "metadata": {},
   "outputs": [
    {
     "data": {
      "text/html": [
       "<div>\n",
       "<style scoped>\n",
       "    .dataframe tbody tr th:only-of-type {\n",
       "        vertical-align: middle;\n",
       "    }\n",
       "\n",
       "    .dataframe tbody tr th {\n",
       "        vertical-align: top;\n",
       "    }\n",
       "\n",
       "    .dataframe thead th {\n",
       "        text-align: right;\n",
       "    }\n",
       "</style>\n",
       "<table border=\"1\" class=\"dataframe\">\n",
       "  <thead>\n",
       "    <tr style=\"text-align: right;\">\n",
       "      <th></th>\n",
       "      <th>Name</th>\n",
       "      <th>Midterm</th>\n",
       "      <th>Final</th>\n",
       "      <th>Attendance</th>\n",
       "      <th>HW</th>\n",
       "      <th>Final Average</th>\n",
       "      <th>Final Letter</th>\n",
       "      <th>Numeric Bin</th>\n",
       "      <th>Majors</th>\n",
       "    </tr>\n",
       "    <tr>\n",
       "      <th>Unnamed: 0</th>\n",
       "      <th></th>\n",
       "      <th></th>\n",
       "      <th></th>\n",
       "      <th></th>\n",
       "      <th></th>\n",
       "      <th></th>\n",
       "      <th></th>\n",
       "      <th></th>\n",
       "      <th></th>\n",
       "    </tr>\n",
       "  </thead>\n",
       "  <tbody>\n",
       "    <tr>\n",
       "      <td>0</td>\n",
       "      <td>Ariel</td>\n",
       "      <td>89</td>\n",
       "      <td>92</td>\n",
       "      <td>9</td>\n",
       "      <td>9</td>\n",
       "      <td>86.0</td>\n",
       "      <td>B+</td>\n",
       "      <td>80.0</td>\n",
       "      <td>BNFO</td>\n",
       "    </tr>\n",
       "    <tr>\n",
       "      <td>1</td>\n",
       "      <td>Brody</td>\n",
       "      <td>92</td>\n",
       "      <td>93</td>\n",
       "      <td>10</td>\n",
       "      <td>9</td>\n",
       "      <td>89.0</td>\n",
       "      <td>A</td>\n",
       "      <td>80.0</td>\n",
       "      <td>BNFO</td>\n",
       "    </tr>\n",
       "    <tr>\n",
       "      <td>2</td>\n",
       "      <td>Debra</td>\n",
       "      <td>76</td>\n",
       "      <td>88</td>\n",
       "      <td>8</td>\n",
       "      <td>6</td>\n",
       "      <td>74.0</td>\n",
       "      <td>C+</td>\n",
       "      <td>70.0</td>\n",
       "      <td>MATH</td>\n",
       "    </tr>\n",
       "    <tr>\n",
       "      <td>3</td>\n",
       "      <td>Rex</td>\n",
       "      <td>90</td>\n",
       "      <td>83</td>\n",
       "      <td>10</td>\n",
       "      <td>10</td>\n",
       "      <td>88.0</td>\n",
       "      <td>B+</td>\n",
       "      <td>80.0</td>\n",
       "      <td>MATH</td>\n",
       "    </tr>\n",
       "    <tr>\n",
       "      <td>4</td>\n",
       "      <td>Jerry</td>\n",
       "      <td>67</td>\n",
       "      <td>85</td>\n",
       "      <td>7</td>\n",
       "      <td>5</td>\n",
       "      <td>66.0</td>\n",
       "      <td>D</td>\n",
       "      <td>60.0</td>\n",
       "      <td>BNFO</td>\n",
       "    </tr>\n",
       "    <tr>\n",
       "      <td>...</td>\n",
       "      <td>...</td>\n",
       "      <td>...</td>\n",
       "      <td>...</td>\n",
       "      <td>...</td>\n",
       "      <td>...</td>\n",
       "      <td>...</td>\n",
       "      <td>...</td>\n",
       "      <td>...</td>\n",
       "      <td>...</td>\n",
       "    </tr>\n",
       "    <tr>\n",
       "      <td>145</td>\n",
       "      <td>Nicole</td>\n",
       "      <td>97</td>\n",
       "      <td>96</td>\n",
       "      <td>9</td>\n",
       "      <td>8</td>\n",
       "      <td>86.7</td>\n",
       "      <td>B+</td>\n",
       "      <td>80.0</td>\n",
       "      <td>MATH</td>\n",
       "    </tr>\n",
       "    <tr>\n",
       "      <td>146</td>\n",
       "      <td>Duncan</td>\n",
       "      <td>99</td>\n",
       "      <td>98</td>\n",
       "      <td>10</td>\n",
       "      <td>8</td>\n",
       "      <td>90.2</td>\n",
       "      <td>A</td>\n",
       "      <td>90.0</td>\n",
       "      <td>BNFO</td>\n",
       "    </tr>\n",
       "    <tr>\n",
       "      <td>147</td>\n",
       "      <td>Hope</td>\n",
       "      <td>96</td>\n",
       "      <td>92</td>\n",
       "      <td>10</td>\n",
       "      <td>9</td>\n",
       "      <td>89.8</td>\n",
       "      <td>A</td>\n",
       "      <td>80.0</td>\n",
       "      <td>IT</td>\n",
       "    </tr>\n",
       "    <tr>\n",
       "      <td>148</td>\n",
       "      <td>Kiara</td>\n",
       "      <td>93</td>\n",
       "      <td>91</td>\n",
       "      <td>10</td>\n",
       "      <td>10</td>\n",
       "      <td>90.9</td>\n",
       "      <td>A</td>\n",
       "      <td>90.0</td>\n",
       "      <td>CS</td>\n",
       "    </tr>\n",
       "    <tr>\n",
       "      <td>149</td>\n",
       "      <td>Zunair</td>\n",
       "      <td>95</td>\n",
       "      <td>82</td>\n",
       "      <td>9</td>\n",
       "      <td>10</td>\n",
       "      <td>86.1</td>\n",
       "      <td>B+</td>\n",
       "      <td>80.0</td>\n",
       "      <td>MATH</td>\n",
       "    </tr>\n",
       "  </tbody>\n",
       "</table>\n",
       "<p>150 rows × 9 columns</p>\n",
       "</div>"
      ],
      "text/plain": [
       "              Name  Midterm  Final  Attendance  HW  Final Average  \\\n",
       "Unnamed: 0                                                          \n",
       "0            Ariel       89     92           9   9           86.0   \n",
       "1            Brody       92     93          10   9           89.0   \n",
       "2            Debra       76     88           8   6           74.0   \n",
       "3              Rex       90     83          10  10           88.0   \n",
       "4            Jerry       67     85           7   5           66.0   \n",
       "...            ...      ...    ...         ...  ..            ...   \n",
       "145         Nicole       97     96           9   8           86.7   \n",
       "146         Duncan       99     98          10   8           90.2   \n",
       "147           Hope       96     92          10   9           89.8   \n",
       "148          Kiara       93     91          10  10           90.9   \n",
       "149         Zunair       95     82           9  10           86.1   \n",
       "\n",
       "           Final Letter  Numeric Bin Majors  \n",
       "Unnamed: 0                                   \n",
       "0                    B+         80.0   BNFO  \n",
       "1                     A         80.0   BNFO  \n",
       "2                    C+         70.0   MATH  \n",
       "3                    B+         80.0   MATH  \n",
       "4                     D         60.0   BNFO  \n",
       "...                 ...          ...    ...  \n",
       "145                  B+         80.0   MATH  \n",
       "146                   A         90.0   BNFO  \n",
       "147                   A         80.0     IT  \n",
       "148                   A         90.0     CS  \n",
       "149                  B+         80.0   MATH  \n",
       "\n",
       "[150 rows x 9 columns]"
      ]
     },
     "execution_count": 4,
     "metadata": {},
     "output_type": "execute_result"
    }
   ],
   "source": [
    "my_df.set_index('Unnamed: 0', inplace=True)\n",
    "my_df"
   ]
  },
  {
   "cell_type": "markdown",
   "metadata": {},
   "source": [
    "### Problem 1"
   ]
  },
  {
   "cell_type": "code",
   "execution_count": 5,
   "metadata": {},
   "outputs": [
    {
     "data": {
      "text/html": [
       "<div>\n",
       "<style scoped>\n",
       "    .dataframe tbody tr th:only-of-type {\n",
       "        vertical-align: middle;\n",
       "    }\n",
       "\n",
       "    .dataframe tbody tr th {\n",
       "        vertical-align: top;\n",
       "    }\n",
       "\n",
       "    .dataframe thead th {\n",
       "        text-align: right;\n",
       "    }\n",
       "</style>\n",
       "<table border=\"1\" class=\"dataframe\">\n",
       "  <thead>\n",
       "    <tr style=\"text-align: right;\">\n",
       "      <th></th>\n",
       "      <th>Midterm</th>\n",
       "      <th>Final</th>\n",
       "      <th>Attendance</th>\n",
       "      <th>HW</th>\n",
       "      <th>Final Average</th>\n",
       "      <th>Numeric Bin</th>\n",
       "    </tr>\n",
       "    <tr>\n",
       "      <th>Majors</th>\n",
       "      <th></th>\n",
       "      <th></th>\n",
       "      <th></th>\n",
       "      <th></th>\n",
       "      <th></th>\n",
       "      <th></th>\n",
       "    </tr>\n",
       "  </thead>\n",
       "  <tbody>\n",
       "    <tr>\n",
       "      <td>BNFO</td>\n",
       "      <td>87.5</td>\n",
       "      <td>90.5</td>\n",
       "      <td>9.0</td>\n",
       "      <td>7.0</td>\n",
       "      <td>75.05</td>\n",
       "      <td>70.0</td>\n",
       "    </tr>\n",
       "    <tr>\n",
       "      <td>CS</td>\n",
       "      <td>82.0</td>\n",
       "      <td>74.5</td>\n",
       "      <td>8.0</td>\n",
       "      <td>8.0</td>\n",
       "      <td>72.70</td>\n",
       "      <td>70.0</td>\n",
       "    </tr>\n",
       "    <tr>\n",
       "      <td>IS</td>\n",
       "      <td>73.0</td>\n",
       "      <td>81.0</td>\n",
       "      <td>8.0</td>\n",
       "      <td>6.0</td>\n",
       "      <td>71.80</td>\n",
       "      <td>70.0</td>\n",
       "    </tr>\n",
       "    <tr>\n",
       "      <td>IT</td>\n",
       "      <td>82.5</td>\n",
       "      <td>80.5</td>\n",
       "      <td>8.0</td>\n",
       "      <td>8.0</td>\n",
       "      <td>74.80</td>\n",
       "      <td>70.0</td>\n",
       "    </tr>\n",
       "    <tr>\n",
       "      <td>MATH</td>\n",
       "      <td>84.5</td>\n",
       "      <td>80.5</td>\n",
       "      <td>8.5</td>\n",
       "      <td>8.0</td>\n",
       "      <td>74.30</td>\n",
       "      <td>70.0</td>\n",
       "    </tr>\n",
       "  </tbody>\n",
       "</table>\n",
       "</div>"
      ],
      "text/plain": [
       "        Midterm  Final  Attendance   HW  Final Average  Numeric Bin\n",
       "Majors                                                             \n",
       "BNFO       87.5   90.5         9.0  7.0          75.05         70.0\n",
       "CS         82.0   74.5         8.0  8.0          72.70         70.0\n",
       "IS         73.0   81.0         8.0  6.0          71.80         70.0\n",
       "IT         82.5   80.5         8.0  8.0          74.80         70.0\n",
       "MATH       84.5   80.5         8.5  8.0          74.30         70.0"
      ]
     },
     "execution_count": 5,
     "metadata": {},
     "output_type": "execute_result"
    }
   ],
   "source": [
    "majors_df = my_df.groupby('Majors').agg(np.median)\n",
    "majors_df"
   ]
  },
  {
   "cell_type": "code",
   "execution_count": 6,
   "metadata": {},
   "outputs": [],
   "source": [
    "numMajors = majors_df.shape[0]\n",
    "majorlist = []\n",
    "for major in majors_df.index:\n",
    "    majorlist.append(major)\n",
    "    \n",
    "majors = np.arange(numMajors)\n",
    "width = 0.25"
   ]
  },
  {
   "cell_type": "code",
   "execution_count": 7,
   "metadata": {},
   "outputs": [
    {
     "data": {
      "image/png": "[encoded data removed]",
      "text/plain": [
       "<Figure size 864x432 with 1 Axes>"
      ]
     },
     "metadata": {
      "needs_background": "light"
     },
     "output_type": "display_data"
    }
   ],
   "source": [
    "plt.bar(majors - width, majors_df['Midterm'], width, color = 'red', label = 'Midterm')\n",
    "plt.bar(majors, majors_df['Final'], width, color = 'green', label = 'Final')\n",
    "plt.bar(majors + width, majors_df['Final Average'], width, color = 'blue', label = 'Final Average')\n",
    "plt.xticks(majors, majorlist)\n",
    "plt.legend(loc = 1)\n",
    "plt.gcf().set_size_inches(12, 6)\n",
    "plt.xlabel('Majors')\n",
    "plt.ylabel('Median Score')\n",
    "plt.title('Median Midterm, Final, and Final Average Scores')\n",
    "plt.show()"
   ]
  },
  {
   "cell_type": "markdown",
   "metadata": {},
   "source": [
    "Data Items and Attributes:  \n",
    "- Majors: Categorical  \n",
    "- Midterm median: Numerical/Quantitative  \n",
    "- Final median: Numerical/Quantitative  \n",
    "- Final Average median: Numerical/Quantitative  \n",
    "\n",
    "Marks:\n",
    "- Bars: each bar indicates a specific median score\n",
    "\n",
    "Channels:\n",
    "- Bar length: higher bar = higher score\n",
    "- Bar color: each color indicates the type of score it is (midterm, final, or final avg)"
   ]
  },
  {
   "cell_type": "markdown",
   "metadata": {},
   "source": [
    "BNFO seems to be doing the best out of all the majors because it has the highest median scores across the board. I think that IS majors are also doing well despite having the lowest final average because there's a relatively large improvement from the midterm median score to the final median score, perhaps indicating growth."
   ]
  },
  {
   "cell_type": "markdown",
   "metadata": {},
   "source": [
    "### Problem 2"
   ]
  },
  {
   "cell_type": "code",
   "execution_count": 19,
   "metadata": {},
   "outputs": [
    {
     "data": {
      "image/png": "[encoded data removed]",
      "text/plain": [
       "<Figure size 864x432 with 1 Axes>"
      ]
     },
     "metadata": {
      "needs_background": "light"
     },
     "output_type": "display_data"
    }
   ],
   "source": [
    "bins = [40, 50, 60, 70, 80, 90, 100]\n",
    "plt.hist(my_df['Numeric Bin'], bins)\n",
    "plt.gcf().set_size_inches(12, 6)\n",
    "plt.xlabel('Grade')\n",
    "plt.ylabel('Frequency')\n",
    "plt.title('Number of Students in Each Grade Bin')\n",
    "plt.show()"
   ]
  },
  {
   "cell_type": "markdown",
   "metadata": {},
   "source": [
    "Data Items and Attributes:\n",
    "- Numeric Bin/Grade: Numerical/Quantitative\n",
    "- Frequency: Numerical/Quantitative\n",
    "\n",
    "Marks:\n",
    "- bar: each bar is a different frenquency\n",
    "\n",
    "Channels:\n",
    "- bar length: longer bar = higher frequency\n",
    "- bar position: the further right a bar is, the higher the numeric bin"
   ]
  },
  {
   "cell_type": "markdown",
   "metadata": {},
   "source": [
    "Critiques:\n",
    "- hard to see actual frquency with the histogram bars\n",
    "- bars too wide\n",
    "- is \"grade\" a final grade, a grade on a specific exam, etc?\n",
    "\n",
    "Improvements/Changes I would make:\n",
    "- add a label with the actual frequency num on top of each bin \n",
    "- Make \"Grade\" label \"Final Grade Bin\"\n"
   ]
  },
  {
   "cell_type": "markdown",
   "metadata": {},
   "source": [
    "Distribution:\n",
    "Skews right"
   ]
  },
  {
   "cell_type": "markdown",
   "metadata": {},
   "source": [
    "### Problem 3"
   ]
  },
  {
   "cell_type": "code",
   "execution_count": 23,
   "metadata": {},
   "outputs": [
    {
     "data": {
      "image/png": "[encoded data removed]",
      "text/plain": [
       "<Figure size 864x432 with 1 Axes>"
      ]
     },
     "metadata": {
      "needs_background": "light"
     },
     "output_type": "display_data"
    }
   ],
   "source": [
    "plt.scatter(my_df['Midterm'], my_df['Final Average'], color = 'red', label = 'Midterm')\n",
    "plt.scatter(my_df['Final'], my_df['Final Average'], color = 'blue', label = 'Final')\n",
    "plt.legend(loc = 0)\n",
    "plt.gcf().set_size_inches(12, 6)\n",
    "plt.xlabel('Exam Score')\n",
    "plt.ylabel('Final Average')\n",
    "plt.title('Exams vs Final Average')\n",
    "plt.show()"
   ]
  },
  {
   "cell_type": "markdown",
   "metadata": {},
   "source": [
    "Data Items and Attributes:\n",
    "- Midterm score: numerical\n",
    "- Final score: numerical\n",
    "- Final average: numerical\n",
    "\n",
    "Marks:\n",
    "- points: each point is a specific score\n",
    "\n",
    "Channels:\n",
    "- point x position: further to the right = better exam score\n",
    "- point y position: further up = better final average\n",
    "- point color: red for midterm score and blue for final score"
   ]
  },
  {
   "cell_type": "markdown",
   "metadata": {},
   "source": [
    "Yes, the exam scores seem to be indicative of the final average. You can tell that there is a linear trend between the exam scores and the final average. With some exceptions, points that are further to the right have also a greater height. This indicates that higher exam scores tend to lead to a higher final average."
   ]
  },
  {
   "cell_type": "code",
   "execution_count": null,
   "metadata": {},
   "outputs": [],
   "source": []
  }
 ],
 "metadata": {
  "kernelspec": {
   "display_name": "Python 3",
   "language": "python",
   "name": "python3"
  },
  "language_info": {
   "codemirror_mode": {
    "name": "ipython",
    "version": 3
   },
   "file_extension": ".py",
   "mimetype": "text/x-python",
   "name": "python",
   "nbconvert_exporter": "python",
   "pygments_lexer": "ipython3",
   "version": "3.7.4"
  }
 },
 "nbformat": 4,
 "nbformat_minor": 2
}
